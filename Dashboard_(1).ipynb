{
  "nbformat": 4,
  "nbformat_minor": 0,
  "metadata": {
    "colab": {
      "provenance": []
    },
    "kernelspec": {
      "name": "python3",
      "display_name": "Python 3"
    },
    "language_info": {
      "name": "python"
    }
  },
  "cells": [
    {
      "cell_type": "markdown",
      "source": [
        "1. Create a folder called assets\n",
        "2. create file called style.css\n",
        "3. Insert below text into style.css"
      ],
      "metadata": {
        "id": "LnNFoF01Ezf0"
      }
    },
    {
      "cell_type": "markdown",
      "source": [
        "body {\n",
        "    background-color: #708090;\n",
        "}\n",
        "\n",
        ".dashboard-container {\n",
        "    width: 1400px;\n",
        "    height: 800px;\n",
        "    margin-left: auto;\n",
        "    margin-right: auto;\n",
        "    margin-top: 50px;\n",
        "    margin-bottom: 50px;\n",
        "    background-color: #010103;\n",
        "    border: 1px solid #cccccc;\n",
        "    border-radius: 10px;\n",
        "}\n",
        "\n",
        "p {\n",
        "    font-family: 'Poppins';\n",
        "    color: #ffffff;\n",
        "    margin-left: 30px;\n",
        "    margin-top: 30px;\n",
        "}\n",
        "\n",
        "h1 {\n",
        "    font-family: \"Poppins\";\n",
        "    color: #ffffff;\n",
        "    font-size: 35px;\n",
        "    margin: 15px;\n",
        "}\n",
        "\n",
        "p {\n",
        "    font-family: \"Poppins\";\n",
        "    color: #ffffff;\n",
        "    font-size: 16px;\n",
        "    margin: 15px;\n",
        "    text-align: justify;\n",
        "}"
      ],
      "metadata": {
        "id": "LuObkt2HE8TR"
      }
    },
    {
      "cell_type": "code",
      "source": [
        "!pip install plotly\n",
        "!pip install dash\n",
        "!pip install jupyter-dash\n",
        "!pip install dash-bootstrap-components"
      ],
      "metadata": {
        "id": "UtXRP0igxA5N"
      },
      "execution_count": null,
      "outputs": []
    },
    {
      "cell_type": "code",
      "source": [
        "import pandas as pd\n",
        "from dash import Dash\n",
        "from dash import dcc\n",
        "import dash_bootstrap_components as dbc\n",
        "from dash import html\n",
        "import plotly.express as px\n",
        "from dash.dependencies import Input, Output\n",
        "from jupyter_dash import JupyterDash\n"
      ],
      "metadata": {
        "id": "0Bov4Ks3x4cs"
      },
      "execution_count": null,
      "outputs": []
    },
    {
      "cell_type": "code",
      "source": [
        "df = pd.read_csv(\"Cleaned_Release.csv\")"
      ],
      "metadata": {
        "id": "VUFT3ydYx61E"
      },
      "execution_count": null,
      "outputs": []
    },
    {
      "cell_type": "code",
      "source": [
        "app = Dash(__name__, external_stylesheets=[dbc.themes.FLATLY])\n",
        "\n",
        "app.layout = dbc.Container([html.Div([\n",
        "                            html.Div([html.H1([\n",
        "                                html.Span(\"Welcome\"),\n",
        "                                html.Br(),\n",
        "                                html.Span(\"to my beautiful dashboard!\")\n",
        "                            ]),\n",
        "                            html.P(\"This dashboard prototype shows how to create an effective layout.\")\n",
        "                            ],\n",
        "                            style = {\n",
        "                                  'vertical-alignment': 'top',\n",
        "                                  'height': 260\n",
        "                            }),\n",
        "                            html.Div([html.Div(dbc.RadioItems(\n",
        "                                options=[\n",
        "                                    {\"label\": \"Graph\", \"value\": 1},\n",
        "                                    {\"label\": \"Table\", \"value\": 2}\n",
        "                                ],\n",
        "                                value=1\n",
        "                            ),\n",
        "\n",
        "                                style={'width': 206}),\n",
        "                            html.Div(style={'width': 104})],\n",
        "\n",
        "                          style={\n",
        "                              'margin-left': 15,\n",
        "                              'margin-right': 15,\n",
        "                              'display': 'flex'\n",
        "                          }),\n",
        "\n",
        "                            html.Div(), html.Div()],\n",
        "                          style={\n",
        "                            'width': 340,\n",
        "                            'margin-left': 35,\n",
        "                            'margin-top': 35,\n",
        "                            'margin-bottom': 35\n",
        "                        }),\n",
        "\n",
        "                    html.Div(\n",
        "                            [html.Div(style={'width': 790}),\n",
        "                              html.Div(style={'width': 200})],\n",
        "                              style={\n",
        "                                'width': 990,\n",
        "                                'margin-top': 35,\n",
        "                                'margin-right': 35,\n",
        "                                'margin-bottom': 35,\n",
        "                                'display': 'flex'\n",
        "                            })\n",
        "                      ],\n",
        "                          fluid=True,\n",
        "                          style={'display': 'flex'},\n",
        "                          className='dashboard-container')\n",
        "\n",
        "\n",
        "if __name__ == \"__main__\":\n",
        "    app.run_server(debug=True)"
      ],
      "metadata": {
        "colab": {
          "base_uri": "https://localhost:8080/",
          "height": 671
        },
        "id": "r9RXsPwrwk_E",
        "outputId": "11c2caff-b4b3-4e28-9063-b0e1bb0a564e"
      },
      "execution_count": null,
      "outputs": [
        {
          "output_type": "display_data",
          "data": {
            "text/plain": [
              "<IPython.core.display.Javascript object>"
            ],
            "application/javascript": [
              "(async (port, path, width, height, cache, element) => {\n",
              "    if (!google.colab.kernel.accessAllowed && !cache) {\n",
              "      return;\n",
              "    }\n",
              "    element.appendChild(document.createTextNode(''));\n",
              "    const url = await google.colab.kernel.proxyPort(port, {cache});\n",
              "    const iframe = document.createElement('iframe');\n",
              "    iframe.src = new URL(path, url).toString();\n",
              "    iframe.height = height;\n",
              "    iframe.width = width;\n",
              "    iframe.style.border = 0;\n",
              "    iframe.allow = [\n",
              "        'accelerometer',\n",
              "        'autoplay',\n",
              "        'camera',\n",
              "        'clipboard-read',\n",
              "        'clipboard-write',\n",
              "        'gyroscope',\n",
              "        'magnetometer',\n",
              "        'microphone',\n",
              "        'serial',\n",
              "        'usb',\n",
              "        'xr-spatial-tracking',\n",
              "    ].join('; ');\n",
              "    element.appendChild(iframe);\n",
              "  })(8050, \"/\", \"100%\", 650, false, window.element)"
            ]
          },
          "metadata": {}
        }
      ]
    }
  ]
}